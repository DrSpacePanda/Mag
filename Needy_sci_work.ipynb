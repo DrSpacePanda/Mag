{
 "cells": [
  {
   "cell_type": "markdown",
   "id": "ae34d757-b6fa-4de0-831c-021c1b9f6fc0",
   "metadata": {},
   "source": [
    "Модель Толика\n",
    "\n",
    "В отделе есть $n$ сотрудников и $n_0$ ставок.\n",
    "\n",
    "В отдел приходит $p \\cdot n_0$ денег, где $p$ - это зп по указу Путина\n",
    "\n",
    "Предположим что мы в москве $p~=~240000$, $n_0~=~100$, a $n~=~150$"
   ]
  },
  {
   "cell_type": "code",
   "execution_count": 68,
   "id": "2e13ca1d-bbbe-4a4f-9fdc-86b79a165ca5",
   "metadata": {},
   "outputs": [],
   "source": [
    "import numpy as np\n",
    "p = 240000\n",
    "n0 = 100\n",
    "n = 150"
   ]
  },
  {
   "cell_type": "markdown",
   "id": "3b396e14-2caf-4a0e-a1e4-bd355baf12c3",
   "metadata": {},
   "source": [
    "Каждый сотрудник гарантированно получает свой оклад + надбавки, обозначим это как $\\check{s}_i$\n",
    "\n",
    "например я имею $28000$ оклад и ещё $3000$ за учёную степень и того для меня $\\check{s}_i~=~31000$"
   ]
  },
  {
   "cell_type": "code",
   "execution_count": 37,
   "id": "4a07f3b8-0221-4886-80e1-521c43d69529",
   "metadata": {},
   "outputs": [],
   "source": [
    "s_check = 31000"
   ]
  },
  {
   "cell_type": "markdown",
   "id": "f59d1ded-e2f9-4f68-8e11-28c3795e6cc3",
   "metadata": {},
   "source": [
    "Так как я научный сотрудник мы можем считать это некоторым средним значением по окладу. Положим так (потом уберём)"
   ]
  },
  {
   "cell_type": "markdown",
   "id": "9f299b86-bbaf-430b-b765-8afd0323fdc6",
   "metadata": {},
   "source": [
    "Таким образом можем определить $\\check{S}$, как сумму по всем сотрудникам $\\check{s}_i$, или некоторое среднее $<\\check{s}> \\cdot n$ "
   ]
  },
  {
   "cell_type": "code",
   "execution_count": 41,
   "id": "748d32ab-ea5f-42dc-abf9-0d02385d5720",
   "metadata": {},
   "outputs": [
    {
     "name": "stdout",
     "output_type": "stream",
     "text": [
      "4650000\n"
     ]
    }
   ],
   "source": [
    "S_check = s_check*n\n",
    "print(S_check)"
   ]
  },
  {
   "cell_type": "markdown",
   "id": "d26183e5-20db-472c-8929-050ca72e523b",
   "metadata": {},
   "source": [
    "Теперь вступает в ход КТУ (Коэффициент Трудового Участия), определяется он субъективно и обладает большой инертностью.\n",
    "Варируется КТУ от 0.5 до 1.3. \n",
    "\n",
    "\n",
    "Но я возьму от 0.1 до 2.0, так как мне кажется, что какая-то черепашка пиздит..."
   ]
  },
  {
   "cell_type": "code",
   "execution_count": 136,
   "id": "292ee9c1-2567-428a-83de-170191431992",
   "metadata": {},
   "outputs": [
    {
     "name": "stdout",
     "output_type": "stream",
     "text": [
      "[0.1 0.2 0.3 0.4 0.5 0.6 0.7 0.8 0.9 1.  1.1 1.2 1.3 1.4 1.5 1.6 1.7 1.8\n",
      " 1.9 2. ]\n"
     ]
    }
   ],
   "source": [
    "KTU = np.array(range(1,21,1))/10\n",
    "print(KTU)"
   ]
  },
  {
   "cell_type": "markdown",
   "id": "4505de70-df0f-4d0e-9c38-890c61711c61",
   "metadata": {},
   "source": [
    "Определим сколько денег остаётся на выплату надбавок по гос.заданию. как ${ p \\cdot n_0~-~\\check{S} ~  = ~ p \\cdot n_0~-~<\\check{s}> \\cdot n }$\n",
    "\n",
    "И получим некотурую среднюю надбавку, которая как чистом коммунизме была бы у всех (я до сих пор не понимаю, зачем при коммунизме деньги, если всё будет в кайф...)\n",
    "\n",
    "$\\LARGE{ \\hat{s} =  \\frac{ p \\cdot n_0~-~<\\check{s}> \\cdot n } {n} }$\n"
   ]
  },
  {
   "cell_type": "code",
   "execution_count": 99,
   "id": "c592368b-1dde-488d-b74f-7e1a766bae35",
   "metadata": {},
   "outputs": [
    {
     "name": "stdout",
     "output_type": "stream",
     "text": [
      "129000.0\n"
     ]
    }
   ],
   "source": [
    "s_hat = ( p * n0 - S_check ) / n\n",
    "print(s_hat)"
   ]
  },
  {
   "cell_type": "markdown",
   "id": "342cdf54-fb6b-4575-a571-937d4540075e",
   "metadata": {},
   "source": [
    "Давайте посмотрим же, какой должна быть моя зарплата при разных КТУ как $\\check(s)_i + KTU \\cdot \\hat(s)$"
   ]
  },
  {
   "cell_type": "code",
   "execution_count": 168,
   "id": "274206c4-939d-48b8-8877-edab94122ad7",
   "metadata": {},
   "outputs": [
    {
     "name": "stdout",
     "output_type": "stream",
     "text": [
      "KTU is ___  ==== salary is     -13%   //     total     //  salary supplement\n",
      "KTU is 0.1  ==== salary is  38193.0    //    43900.0    //    12900.0\n",
      "KTU is 0.2  ==== salary is  49416.0    //    56800.0    //    25800.0\n",
      "KTU is 0.3  ==== salary is  60639.0    //    69700.0    //    38700.0\n",
      "KTU is 0.4  ==== salary is  71862.0    //    82600.0    //    51600.0\n",
      "KTU is 0.5  ==== salary is  83085.0    //    95500.0    //    64500.0\n",
      "KTU is 0.6  ==== salary is  94308.0    //    108400.0    //    77400.0\n",
      "KTU is 0.7  ==== salary is  105531.0    //    121300.0    //    90300.0\n",
      "KTU is 0.8  ==== salary is  116754.0    //    134200.0    //    103200.0\n",
      "KTU is 0.9  ==== salary is  127977.0    //    147100.0    //    116100.0\n",
      "KTU is 1.0  ==== salary is  139200.0    //    160000.0    //    129000.0\n",
      "KTU is 1.1  ==== salary is  150423.0    //    172900.0    //    141900.0\n",
      "KTU is 1.2  ==== salary is  161646.0    //    185800.0    //    154800.0\n",
      "KTU is 1.3  ==== salary is  172869.0    //    198700.0    //    167700.0\n",
      "KTU is 1.4  ==== salary is  184092.0    //    211600.0    //    180600.0\n",
      "KTU is 1.5  ==== salary is  195315.0    //    224500.0    //    193500.0\n",
      "KTU is 1.6  ==== salary is  206538.0    //    237400.0    //    206400.0\n",
      "KTU is 1.7  ==== salary is  217761.0    //    250300.0    //    219300.0\n",
      "KTU is 1.8  ==== salary is  228984.0    //    263200.0    //    232200.0\n",
      "KTU is 1.9  ==== salary is  240207.0    //    276100.0    //    245100.0\n",
      "KTU is 2.0  ==== salary is  251430.0    //    289000.0    //    258000.0\n"
     ]
    }
   ],
   "source": [
    "salary = s_check+(KTU*s_hat)\n",
    "\n",
    "print('KTU is',  '___',' ==== salary is ' , '   -13%  ' , '//' , '    total   ' , ' // ' , 'salary supplement' )\n",
    "\n",
    "for i in range(1,21,1) :\n",
    "    print( 'KTU is',  KTU[i-1],' ==== salary is ', salary[i-1]*0.87 , '   //   ', salary[i-1] , '   //   ',  (KTU[i-1]*s_hat))"
   ]
  },
  {
   "cell_type": "markdown",
   "id": "13cea58b-8eca-4b30-b1e9-49a8a0f3883c",
   "metadata": {},
   "source": [
    "Хорошо, может надо учесть, что работадатель платит с зарплатного фонда ещё 31% от total, тогда нам нужно учесть что total это не правильная величина\n",
    "\n",
    "Её нужно считать так $total ~ = ~ salary \\cdot (1-0.31) ~ = ~ 0.69 \\cdot salary $\n",
    "\n"
   ]
  },
  {
   "cell_type": "code",
   "execution_count": 175,
   "id": "55336498-bb7a-4151-9dcd-e05a461b2fdc",
   "metadata": {},
   "outputs": [
    {
     "name": "stdout",
     "output_type": "stream",
     "text": [
      "KTU is ___  ==== salary is     -13%   //     total   \n",
      "KTU is 0.1  ==== salary is  26353    //    30290\n",
      "KTU is 0.2  ==== salary is  34097    //    39192\n",
      "KTU is 0.3  ==== salary is  41840    //    48092\n",
      "KTU is 0.4  ==== salary is  49584    //    56993\n",
      "KTU is 0.5  ==== salary is  57328    //    65895\n",
      "KTU is 0.6  ==== salary is  65072    //    74796\n",
      "KTU is 0.7  ==== salary is  72816    //    83697\n",
      "KTU is 0.8  ==== salary is  80560    //    92598\n",
      "KTU is 0.9  ==== salary is  88304    //    101498\n",
      "KTU is 1.0  ==== salary is  96047    //    110399\n",
      "KTU is 1.1  ==== salary is  103791    //    119300\n",
      "KTU is 1.2  ==== salary is  111535    //    128201\n",
      "KTU is 1.3  ==== salary is  119279    //    137103\n",
      "KTU is 1.4  ==== salary is  127023    //    146004\n",
      "KTU is 1.5  ==== salary is  134767    //    154905\n",
      "KTU is 1.6  ==== salary is  142511    //    163806\n",
      "KTU is 1.7  ==== salary is  150255    //    172707\n",
      "KTU is 1.8  ==== salary is  157998    //    181608\n",
      "KTU is 1.9  ==== salary is  165742    //    190508\n",
      "KTU is 2.0  ==== salary is  173486    //    199409\n"
     ]
    }
   ],
   "source": [
    "print('KTU is',  '___',' ==== salary is ' , '   -13%  ' , '//' , '    total   '  )\n",
    "for i in range(1,21,1) :\n",
    "    print( 'KTU is',  KTU[i-1],' ==== salary is ', int((0.69*salary[i-1])*0.87) , '   //   ', int(0.69*salary[i-1]) )"
   ]
  },
  {
   "cell_type": "markdown",
   "id": "d0e58383-67d6-46bb-b3c8-f844e53592c2",
   "metadata": {},
   "source": [
    "Как мы видим, без грантовых денег никто не получит свою обещанную ЗП, при таком колличестве людей\n"
   ]
  }
 ],
 "metadata": {
  "kernelspec": {
   "display_name": "Python 3 (ipykernel)",
   "language": "python",
   "name": "python3"
  },
  "language_info": {
   "codemirror_mode": {
    "name": "ipython",
    "version": 3
   },
   "file_extension": ".py",
   "mimetype": "text/x-python",
   "name": "python",
   "nbconvert_exporter": "python",
   "pygments_lexer": "ipython3",
   "version": "3.11.7"
  }
 },
 "nbformat": 4,
 "nbformat_minor": 5
}
